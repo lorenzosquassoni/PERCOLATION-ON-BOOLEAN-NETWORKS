{
 "cells": [
  {
   "cell_type": "markdown",
   "metadata": {},
   "source": [
    "**PERCOLATION ON BOOLEAN NETWORKS**"
   ]
  },
  {
   "cell_type": "markdown",
   "metadata": {},
   "source": [
    "Percolation theory describes how the size of clusters of connected set of edges of large random networks\n",
    "varies as the connectivity - i.e. the probability that two vertices are connected by an edge - changes. As the\n",
    "connectivity increases the system undergoes a transition from a situation where the clusters are small in size to\n",
    "a picture with significantly larger clusters. This transition is not smooth, but rather it happens sharply as the\n",
    "connectivity crosses a critical value, called percolation threshold. The scope of the present project is to study\n",
    "numerically this phenomenon in Boolean networks."
   ]
  },
  {
   "cell_type": "code",
   "execution_count": 1,
   "metadata": {},
   "outputs": [],
   "source": [
    "import numpy as np #for linear algebra\n",
    "import matplotlib.pyplot as plt\n",
    "import math\n",
    "from collections import deque  # Importa la classe deque da collections\n"
   ]
  },
  {
   "cell_type": "markdown",
   "metadata": {},
   "source": [
    "**Poisson Process on a Plane**"
   ]
  },
  {
   "cell_type": "markdown",
   "metadata": {},
   "source": [
    " To define Boolean model networks we need to introduce first Poisson processes on the plane. A\n",
    "random set of points $X$ $⊂$ $R^2$\n",
    " is said to be a Poisson process of density $\\lambda$ > 0 on the plane if it\n",
    "satisfies the following conditions:\n",
    "\n",
    "* Let $X(D)$ denote the random number of points of X inside a domain D. For mutually disjoint sets $D_1$, $D_2$, ..., $D_k$ $ ⊂$ $R^2$, the random variables $X(D_1)$, $X(D_2)$, ..., $X(D_k)$ are independent.\n",
    "  \n",
    "* Let $|D|$ denote the area of a domain $D$. For any bounded $D ⊂ R^2$ and any k ≥ 0, it holds\n",
    " \n",
    " \n",
    " $$\n",
    "  P(X(D) = k) = \\frac{e^{-\\lambda |D|} (\\lambda |D|)^k}{k!}\n",
    "  $$\n",
    "\n",
    "\n",
    "That is $X(D)$ $\\sim$ $Poi(\\lambda |D|)$. In particular, as a consequence, the mean number of points of $X$ in $D$ is $E[X(D)] = \\lambda|D|$\n"
   ]
  },
  {
   "cell_type": "markdown",
   "metadata": {},
   "source": [
    "We first create a function for simulating a Poisson Process on a Plane, having as inputs the density of the Poisson process $\\lambda$ and the dimension T of the square domain."
   ]
  },
  {
   "cell_type": "markdown",
   "metadata": {},
   "source": [
    "**CHAPTER 1. POISSON PROCESS ON A PLANE**"
   ]
  },
  {
   "cell_type": "code",
   "execution_count": 2,
   "metadata": {},
   "outputs": [],
   "source": [
    "def simulate_poisson_process_on_plane(T, lam):\n",
    "        \n",
    "        N = np.random.poisson(lam * T**2) #produce the N points according to a Poisson distribution of parameter (lambda * T^2). T^2 since we are considering a square domain\n",
    "\n",
    "        # Assign the coordinates to the N points\n",
    "        if N == 0:\n",
    "            return np.array([])  # if 0 points have been produced return an empty array\n",
    "        else: #generate a random matrix of numbers following a uniform distribution with dimensions N rows(points) X 2 columns (coordinates)\n",
    "            points = np.random.rand(N, 2) * T  #moltiplicate for T for distribute points in T dimension (not just between 0-1)\n",
    "            return points #return coordinates of the points\n"
   ]
  },
  {
   "cell_type": "markdown",
   "metadata": {},
   "source": [
    "We create a function to create a scatterplot for visualizing the points of the Poisson Process on a Plane."
   ]
  },
  {
   "cell_type": "code",
   "execution_count": 3,
   "metadata": {},
   "outputs": [],
   "source": [
    "def simulate_and_plot_poisson_process_on_plane(T, lam):\n",
    "\n",
    "        \n",
    "    #generate the points of the poisson process   \n",
    "    points = simulate_poisson_process_on_plane(T, lam)\n",
    "\n",
    "    # Plotting\n",
    "    plt.figure(figsize=(6, 6))\n",
    "    if points.size > 0:  # Check if there are any points to plot\n",
    "        plt.scatter(points[:, 0], points[:, 1], color='blue', alpha=0.7)  # First coordinate of points, and second coordinate of the points. Alpha for transparency of points\n",
    "    plt.title(f'Poisson Process Simulation on Square with dimensions [0, {T}] x [0, {T}]')\n",
    "    plt.xlabel('X')\n",
    "    plt.ylabel('Y')\n",
    "    plt.xlim(0, T)\n",
    "    plt.ylim(0, T)\n",
    "    plt.grid(True)\n",
    "    plt.show()\n",
    "\n",
    "    return f'NUMBER OF POINTS: {len(points)}'\n",
    "    return f'COORDINATES OF THE POINTS: {points}'\n",
    "    \n"
   ]
  },
  {
   "cell_type": "markdown",
   "metadata": {},
   "source": [
    "We now produce an example of the 2 previous functions for creating and plotting a Poisson Process on a Plane."
   ]
  },
  {
   "cell_type": "code",
   "execution_count": 4,
   "metadata": {},
   "outputs": [
    {
     "data": {
      "text/plain": [
       "array([[1.44492839e+01, 4.81068066e+01],\n",
       "       [5.21540669e+00, 4.56746851e+01],\n",
       "       [3.97984267e+00, 8.01322527e+00],\n",
       "       [3.15738107e+01, 3.95403012e+01],\n",
       "       [1.95172450e+00, 2.05770417e+01],\n",
       "       [5.85837530e+01, 4.36458379e+01],\n",
       "       [4.22644742e+01, 1.54142936e+01],\n",
       "       [5.86971231e+01, 2.72208330e+01],\n",
       "       [3.78674731e-01, 2.12143260e+01],\n",
       "       [3.66043047e+01, 2.05795752e+01],\n",
       "       [3.99257827e+01, 5.03151025e+01],\n",
       "       [4.58998928e+01, 5.18754888e+01],\n",
       "       [3.15854916e+01, 3.57085098e+01],\n",
       "       [3.99923884e+01, 5.40722812e+01],\n",
       "       [4.04445537e+01, 4.46913499e+01],\n",
       "       [4.01933093e+00, 5.25376440e+01],\n",
       "       [2.42930697e+01, 5.32300300e+01],\n",
       "       [6.82708326e+00, 5.87474154e+01],\n",
       "       [1.21074616e+01, 3.89719603e+01],\n",
       "       [2.35709584e+00, 1.97565755e+01],\n",
       "       [8.46644458e+00, 2.46178153e+01],\n",
       "       [2.95864328e+01, 3.95201319e+01],\n",
       "       [2.13866705e+00, 4.80751747e+01],\n",
       "       [3.23843797e+00, 1.98225867e+01],\n",
       "       [2.12141024e+01, 3.93367484e+01],\n",
       "       [5.82714655e+01, 3.37286567e+01],\n",
       "       [5.03289372e+01, 4.51579286e+01],\n",
       "       [4.76237806e+00, 2.97669585e+01],\n",
       "       [4.99137659e+01, 2.16582122e+01],\n",
       "       [4.71068524e+01, 3.45538520e+01],\n",
       "       [3.40596644e+01, 4.25641622e+01],\n",
       "       [1.06428557e+01, 2.21838751e+01],\n",
       "       [4.91530375e+01, 1.33753118e+01],\n",
       "       [1.77207322e+01, 5.85520849e+01],\n",
       "       [1.93551149e+00, 1.76730035e+01],\n",
       "       [3.87352842e+01, 4.79513768e+01],\n",
       "       [1.49673682e+01, 1.02160935e+01],\n",
       "       [2.45644150e+01, 1.48729696e+00],\n",
       "       [2.56374498e+01, 1.36626684e+01],\n",
       "       [4.65643807e+01, 3.15482280e+01],\n",
       "       [3.30779210e+01, 2.15202372e+01],\n",
       "       [3.71265067e-01, 4.46560070e+01],\n",
       "       [3.36739624e+01, 1.82552708e+01],\n",
       "       [1.19979221e+01, 2.10355537e+01],\n",
       "       [1.35820208e+01, 3.49860068e+00],\n",
       "       [5.63620476e+01, 2.82051760e+00],\n",
       "       [4.63054856e+01, 4.38165876e+01],\n",
       "       [3.05925213e+01, 3.39922291e+01],\n",
       "       [3.80436033e+01, 7.13490519e+00],\n",
       "       [4.04610697e+01, 5.47629871e+01],\n",
       "       [4.82956841e+01, 4.15030616e+01],\n",
       "       [6.15093619e+00, 1.46083503e+01],\n",
       "       [2.25035010e+01, 5.32834795e+01],\n",
       "       [4.92386627e+01, 9.58790281e+00],\n",
       "       [1.29334151e+01, 2.46216399e+01],\n",
       "       [5.01163163e+01, 4.28075827e+01],\n",
       "       [2.04924887e+01, 8.10920470e+00],\n",
       "       [5.06203387e+01, 4.72705783e+01],\n",
       "       [5.06705045e+01, 4.26789884e+01],\n",
       "       [4.95438378e+01, 9.55901630e+00],\n",
       "       [3.84305812e+01, 2.62171027e+01],\n",
       "       [2.39308798e+01, 5.21538621e+00],\n",
       "       [2.20193607e+01, 5.49017384e+01],\n",
       "       [1.81552685e+01, 4.12162496e+01],\n",
       "       [4.71378549e+01, 2.09597077e+01],\n",
       "       [5.18859875e+01, 4.16280814e+01],\n",
       "       [1.59613236e+01, 2.03392205e+01],\n",
       "       [4.21171505e+01, 5.89557323e+01],\n",
       "       [4.00186351e+01, 9.07791900e+00],\n",
       "       [4.95445308e+01, 3.50252615e+01],\n",
       "       [2.14082230e+01, 2.25011811e+01],\n",
       "       [1.56743335e+01, 3.88750482e+00],\n",
       "       [3.45735025e+01, 1.96507832e+01],\n",
       "       [6.89434312e+00, 1.41787602e+01],\n",
       "       [3.70322612e+01, 5.85239429e+01],\n",
       "       [2.33376093e+01, 5.35521598e+01],\n",
       "       [3.21475777e+00, 3.65263309e+01],\n",
       "       [5.80362745e+01, 5.96407155e+01],\n",
       "       [4.57144705e+01, 3.29943821e+00],\n",
       "       [2.44062635e+01, 3.53287354e+01],\n",
       "       [2.92418579e+01, 2.49370723e+01],\n",
       "       [2.73754270e+01, 3.30504824e+00],\n",
       "       [1.61312608e+00, 2.19050748e+01],\n",
       "       [5.68675242e+01, 4.84833450e+01],\n",
       "       [1.22690553e+01, 3.82572862e+00],\n",
       "       [5.67374753e+01, 1.97423446e+01],\n",
       "       [2.50072895e+01, 5.46435652e+01],\n",
       "       [3.87488697e+01, 5.43651566e+01],\n",
       "       [5.54996367e+01, 2.33329339e+01],\n",
       "       [3.06020343e+01, 2.90166679e+01],\n",
       "       [3.63332857e+01, 3.42823457e+01],\n",
       "       [5.43972299e+01, 7.58814032e+00],\n",
       "       [3.81011210e+01, 2.45980812e+01],\n",
       "       [3.46108414e+00, 3.65993350e+01],\n",
       "       [4.32286496e+01, 2.95702922e+01],\n",
       "       [4.82130978e+01, 5.40601665e+01],\n",
       "       [3.53705668e+01, 4.62617197e-01],\n",
       "       [1.59102046e+01, 5.52399544e+01],\n",
       "       [9.79236042e+00, 1.32530030e+01],\n",
       "       [1.88973149e+01, 4.98596254e+01],\n",
       "       [2.57643068e+01, 4.52048631e+01],\n",
       "       [4.93427354e+01, 4.12986353e+01],\n",
       "       [4.02403892e+01, 1.87491949e-01],\n",
       "       [2.78071635e+01, 1.95217811e+01],\n",
       "       [3.59382374e+01, 4.34531236e+01],\n",
       "       [1.01092217e+01, 6.74913930e+00],\n",
       "       [3.53080351e+01, 7.77067081e+00],\n",
       "       [1.51453338e+01, 1.56073839e+01],\n",
       "       [3.53312036e+01, 1.27623467e+01],\n",
       "       [4.67135686e+01, 4.88654189e+01],\n",
       "       [1.56295300e+01, 2.22263329e-01],\n",
       "       [3.16414640e+01, 2.51642143e+01],\n",
       "       [4.20008847e+01, 1.50439267e+01],\n",
       "       [4.82199257e+01, 2.44547944e+01],\n",
       "       [1.17204110e+01, 5.54439886e+01],\n",
       "       [7.19579386e+00, 5.31149518e+01],\n",
       "       [3.37587216e+01, 1.19538969e+01],\n",
       "       [2.55996705e+01, 1.66877509e+01],\n",
       "       [3.51466579e+01, 3.53777888e+00],\n",
       "       [1.49112825e+01, 5.39732622e+01],\n",
       "       [5.46011898e+01, 2.03818760e+01],\n",
       "       [4.36264818e+01, 5.69979166e+01],\n",
       "       [4.61809683e+01, 4.17657903e+01],\n",
       "       [1.21359485e+01, 4.06296132e+01],\n",
       "       [5.50619288e+01, 3.93708482e+01],\n",
       "       [2.58959974e+01, 3.85394152e+01],\n",
       "       [5.53895746e+01, 1.95819869e+01],\n",
       "       [4.57069199e+01, 1.32790510e+01],\n",
       "       [3.49739664e+01, 4.16248646e+01],\n",
       "       [2.34932236e+01, 2.92880322e+01],\n",
       "       [3.44509600e+01, 5.89865345e+01],\n",
       "       [3.53167868e+01, 4.45807957e+01],\n",
       "       [1.92712482e+01, 1.59260691e+01],\n",
       "       [2.17956997e+00, 3.18360120e+01],\n",
       "       [2.69648692e+01, 2.71009041e+01],\n",
       "       [1.28132294e+01, 3.66608814e+01],\n",
       "       [4.74456672e+00, 3.57733195e+01],\n",
       "       [3.23006533e+01, 5.64132416e+01],\n",
       "       [2.33178802e+00, 3.51955900e+01],\n",
       "       [5.08317309e+01, 3.60443808e+01],\n",
       "       [5.00230638e+01, 5.76035306e+01],\n",
       "       [2.07765685e-01, 4.26030458e+01],\n",
       "       [8.08263161e+00, 3.37169554e+01],\n",
       "       [4.84316738e+01, 1.29234090e+01],\n",
       "       [1.95080505e+01, 4.64273392e+00],\n",
       "       [2.68734921e+01, 5.55344432e+01],\n",
       "       [1.92055193e+01, 3.86676999e+01],\n",
       "       [2.43120979e+01, 8.08336431e+00],\n",
       "       [5.21177730e+01, 2.05815937e+01],\n",
       "       [2.07068245e+01, 4.85149378e+01],\n",
       "       [4.30311420e+01, 8.95321710e+00],\n",
       "       [3.05661923e+01, 5.32484831e+01],\n",
       "       [8.69446342e+00, 8.61006904e+00],\n",
       "       [1.16686745e+01, 2.42729867e+00],\n",
       "       [5.40745366e+01, 2.80854787e+01],\n",
       "       [5.83498916e+00, 1.72269651e+01],\n",
       "       [5.15366644e+01, 3.86810222e+01],\n",
       "       [3.15662009e+01, 4.23076694e+01],\n",
       "       [5.54652620e+01, 6.23856469e+00],\n",
       "       [4.30501379e+01, 6.48799551e+00],\n",
       "       [1.32452303e+01, 5.76869571e+00],\n",
       "       [3.94538803e+01, 2.65196762e+01],\n",
       "       [4.98878864e+01, 8.73236032e+00],\n",
       "       [2.50741354e+01, 5.33458775e+01],\n",
       "       [3.10119790e+01, 2.83123375e+00],\n",
       "       [7.37937119e-01, 7.03329179e+00],\n",
       "       [2.56442147e+01, 4.79742316e+00],\n",
       "       [3.58704188e+01, 1.56989450e+01],\n",
       "       [5.41405435e+01, 2.49256522e+01],\n",
       "       [1.60574695e+01, 3.97994731e+01],\n",
       "       [9.49129186e+00, 4.60257054e+01],\n",
       "       [2.77054610e+01, 1.61849421e+01],\n",
       "       [3.83321680e+01, 5.90440777e+01],\n",
       "       [9.73750681e+00, 2.97700158e+01],\n",
       "       [2.32778458e+01, 4.36560989e+01],\n",
       "       [1.41450650e+01, 5.97192445e+00],\n",
       "       [4.23655868e+00, 4.83641198e+01],\n",
       "       [5.90192129e+01, 3.32250905e+01],\n",
       "       [2.82516215e+01, 3.40428855e+01],\n",
       "       [1.26744486e+01, 5.62142838e+01],\n",
       "       [1.39208357e+01, 4.04774385e+01],\n",
       "       [2.19693814e+01, 2.42043498e+01],\n",
       "       [4.60844026e+01, 7.80525558e+00],\n",
       "       [4.28340834e+01, 2.93604979e+00],\n",
       "       [3.37254580e+01, 2.52446467e+01],\n",
       "       [4.45905959e+01, 5.30115195e+01],\n",
       "       [5.32565622e+01, 2.78511637e+01],\n",
       "       [1.83378083e+01, 5.13924128e-02],\n",
       "       [2.91129693e+01, 1.06006979e+01],\n",
       "       [4.95544774e+01, 2.17061410e+01],\n",
       "       [4.62972863e+01, 3.01584603e+01],\n",
       "       [4.70742934e+00, 4.28630586e+01],\n",
       "       [1.44484130e+01, 5.24430028e+01],\n",
       "       [1.90491222e+01, 3.47001614e+01],\n",
       "       [5.52448051e+01, 4.68334212e+01],\n",
       "       [4.36535217e+01, 2.98737824e+01],\n",
       "       [2.60911536e+01, 2.48160221e+01],\n",
       "       [5.88439152e+01, 5.51830970e+01],\n",
       "       [4.54047275e+01, 1.09051721e+01],\n",
       "       [1.66423158e+01, 2.76072949e+01],\n",
       "       [2.06544663e+01, 9.67991365e+00],\n",
       "       [1.55877969e+01, 2.42653006e+01],\n",
       "       [4.10976042e+01, 2.47857616e+01],\n",
       "       [5.43090062e+01, 5.42648143e+01],\n",
       "       [3.87025614e+01, 1.57806351e+01],\n",
       "       [3.23959183e+01, 5.18236218e+01],\n",
       "       [4.70239867e+01, 2.99174138e+01],\n",
       "       [1.49719654e+01, 2.06994202e+01],\n",
       "       [7.55639629e+00, 2.93397752e+01],\n",
       "       [2.24388736e+01, 1.36032407e+01],\n",
       "       [5.53799422e+01, 5.18249553e+01],\n",
       "       [6.72196546e+00, 5.68424979e+01],\n",
       "       [1.23937579e+01, 2.75171025e+01],\n",
       "       [2.26998203e+01, 1.63027671e+01],\n",
       "       [2.61769076e+01, 7.52087637e+00],\n",
       "       [9.62151728e+00, 2.92363201e+01],\n",
       "       [5.07778067e+01, 8.65821328e+00],\n",
       "       [3.49751621e+01, 2.67146611e+01],\n",
       "       [5.19127282e+01, 1.30004371e+00],\n",
       "       [8.96290898e-01, 2.78753637e+01],\n",
       "       [5.80458403e+01, 4.85843223e+01],\n",
       "       [4.65810417e+01, 2.91646918e+01],\n",
       "       [5.92786515e+01, 4.40701724e+01],\n",
       "       [2.34014534e+01, 2.31954995e+01],\n",
       "       [1.10152402e+01, 1.80870496e+01],\n",
       "       [5.00804223e+00, 7.08066072e+00],\n",
       "       [2.02979915e+01, 4.89820860e+00],\n",
       "       [2.09236892e+01, 4.17829331e+01],\n",
       "       [2.55508628e+01, 3.16856980e+01],\n",
       "       [1.93436851e+01, 4.67531958e+01],\n",
       "       [3.73857019e+01, 1.58998049e+01],\n",
       "       [2.91479202e+00, 1.40454414e+01],\n",
       "       [2.72195491e+01, 5.36147889e+01],\n",
       "       [4.15743162e+01, 5.59337561e+01],\n",
       "       [1.71965127e+01, 5.95046398e+01],\n",
       "       [5.13332796e+01, 5.91184380e+01],\n",
       "       [3.77217699e+00, 4.15271949e+01],\n",
       "       [3.20760168e+01, 3.17329465e+01],\n",
       "       [1.19571407e+01, 1.71311493e+01],\n",
       "       [4.13931734e+00, 2.92854884e+01],\n",
       "       [5.31043834e+01, 5.68558401e+01],\n",
       "       [9.21934036e+00, 4.30803804e+01],\n",
       "       [3.40001346e+01, 1.91281513e+01],\n",
       "       [3.02052735e+01, 1.77239951e+01],\n",
       "       [4.97101301e+01, 5.60935032e+01],\n",
       "       [1.05709054e+01, 8.78261174e+00],\n",
       "       [2.71077940e+01, 5.89898630e+01],\n",
       "       [5.24251577e+01, 4.19201784e+01],\n",
       "       [4.19694214e+01, 1.03112701e+01],\n",
       "       [2.33312849e+01, 4.91231759e+01],\n",
       "       [1.50644197e+01, 1.14639394e+01],\n",
       "       [3.66534181e+01, 4.53454236e+01],\n",
       "       [1.17913070e+01, 2.24041522e+01],\n",
       "       [1.30976553e+01, 1.62720188e+01],\n",
       "       [1.06745213e+01, 2.92279067e+01],\n",
       "       [5.55098659e+01, 1.30881497e+01],\n",
       "       [1.15070154e+01, 4.54628934e+01],\n",
       "       [3.61467059e+01, 3.93932164e+01],\n",
       "       [4.37962727e+01, 3.34568538e+01],\n",
       "       [2.89033146e+01, 4.82809838e+01],\n",
       "       [5.99316816e+01, 4.86761637e+01],\n",
       "       [3.18215005e+01, 5.32457986e+01],\n",
       "       [6.88338571e+00, 5.68289353e+01],\n",
       "       [3.68546431e+01, 5.57539556e+01],\n",
       "       [5.14373536e-01, 4.87718907e+01],\n",
       "       [2.64882435e+01, 1.57193124e+01],\n",
       "       [6.39039871e+00, 1.18226219e+01],\n",
       "       [2.84524590e+01, 2.34644111e+01],\n",
       "       [5.69036017e+01, 2.51117205e+01],\n",
       "       [2.80481958e+01, 2.02941609e+01],\n",
       "       [5.08047839e+01, 3.15772764e+01],\n",
       "       [5.62736148e+01, 3.56244141e+00],\n",
       "       [2.00179981e+01, 9.53360242e+00],\n",
       "       [1.91098935e+01, 3.82600648e+01],\n",
       "       [5.78868448e+01, 2.93816760e+01],\n",
       "       [5.38854333e+01, 4.91249881e+01],\n",
       "       [1.54967403e+01, 4.73311350e+00],\n",
       "       [2.71593307e+01, 4.92792181e+01],\n",
       "       [1.00898467e+01, 2.28485341e+01],\n",
       "       [2.26051143e+01, 1.82711226e+01],\n",
       "       [5.17827097e+01, 1.12995363e+01],\n",
       "       [5.40463544e+01, 5.85168743e+01],\n",
       "       [2.09772210e+01, 2.10563358e+01],\n",
       "       [4.97214425e+01, 4.02779054e+01],\n",
       "       [3.17322181e+00, 3.18625047e+01],\n",
       "       [5.86987481e+01, 5.16913970e+01],\n",
       "       [3.68025972e+00, 3.67346803e+01],\n",
       "       [3.36219735e+00, 1.68385686e+01],\n",
       "       [4.82402056e+01, 1.12583982e+01],\n",
       "       [5.67692241e+01, 4.04401609e+01],\n",
       "       [2.52925129e+01, 5.48166436e+01],\n",
       "       [2.03266923e+01, 4.49627506e+01],\n",
       "       [5.26257573e+01, 5.12416702e+01],\n",
       "       [4.08744118e+01, 3.19414085e+01],\n",
       "       [1.53675639e+01, 4.44808968e+00],\n",
       "       [5.18138581e+01, 5.01307170e+01],\n",
       "       [4.36856674e+01, 5.52884569e+01],\n",
       "       [3.66256326e+01, 3.35924121e+01],\n",
       "       [3.09906064e+01, 2.00733537e+01],\n",
       "       [4.00293261e+01, 2.03888750e+00],\n",
       "       [1.69987443e+01, 5.58727638e+01],\n",
       "       [1.50150937e+01, 4.20971688e+01],\n",
       "       [4.99073800e+01, 3.37668661e+01],\n",
       "       [4.90533499e+01, 2.29319111e+01],\n",
       "       [5.73642533e+01, 2.64008941e+01],\n",
       "       [4.41878318e+01, 5.66709628e+01],\n",
       "       [5.03319332e+01, 1.64690964e+01],\n",
       "       [2.15113684e+01, 5.84774825e+01],\n",
       "       [2.66171876e+00, 5.22064865e+01],\n",
       "       [1.73262749e+01, 5.74893738e+01],\n",
       "       [4.46938495e+00, 2.77093261e+01],\n",
       "       [3.85477719e+01, 8.97805769e+00],\n",
       "       [3.62433562e+01, 1.05626216e+01],\n",
       "       [5.10041245e+01, 4.76381580e+01],\n",
       "       [5.96183320e+01, 5.76242745e+00],\n",
       "       [3.42963209e+01, 4.86576533e+01],\n",
       "       [4.16536601e+01, 3.99212621e+01],\n",
       "       [5.14543299e+01, 3.34008164e+01],\n",
       "       [5.44518926e+00, 1.94067296e+00],\n",
       "       [3.93742074e+01, 5.25851571e+01],\n",
       "       [4.89791801e+01, 1.96189207e+01],\n",
       "       [4.04557073e+01, 1.52642946e+01],\n",
       "       [1.08789192e+01, 4.28973866e+01],\n",
       "       [3.17795917e+01, 5.21919849e+01],\n",
       "       [6.54952000e+00, 3.38795741e+01],\n",
       "       [5.33132011e+01, 4.22902075e+01],\n",
       "       [2.68631687e+01, 8.57698368e+00],\n",
       "       [6.57690954e+00, 5.41380370e+01],\n",
       "       [5.91717912e+01, 1.54861392e+01],\n",
       "       [4.69697619e+01, 5.98452986e+01],\n",
       "       [1.11476880e+01, 4.68883338e+01],\n",
       "       [3.51433552e+01, 8.09110331e-01],\n",
       "       [3.88474642e+01, 5.93451780e+01],\n",
       "       [7.29650046e-01, 2.63143189e+01],\n",
       "       [5.00582257e+01, 4.65705846e+01],\n",
       "       [5.45847244e+01, 3.70392670e+01],\n",
       "       [3.32699375e+01, 4.17816024e+01],\n",
       "       [5.80954485e+01, 2.70458139e+01],\n",
       "       [6.80863946e+00, 3.39757674e+01],\n",
       "       [1.12027475e+01, 3.75773149e+01],\n",
       "       [8.67943369e+00, 3.57859832e+01]])"
      ]
     },
     "execution_count": 4,
     "metadata": {},
     "output_type": "execute_result"
    }
   ],
   "source": [
    "T = 60 # dimension of the square domain\n",
    "lam = 0.1  # Density (lambda) of the poisson process\n",
    "\n",
    "simulate_poisson_process_on_plane(T, lam)"
   ]
  },
  {
   "cell_type": "code",
   "execution_count": 5,
   "metadata": {},
   "outputs": [
    {
     "data": {
      "image/png": "[encoded data removed]",
      "text/plain": [
       "<Figure size 600x600 with 1 Axes>"
      ]
     },
     "metadata": {},
     "output_type": "display_data"
    },
    {
     "data": {
      "text/plain": [
       "'NUMBER OF POINTS: 384'"
      ]
     },
     "execution_count": 5,
     "metadata": {},
     "output_type": "execute_result"
    }
   ],
   "source": [
    "T = 60 # dimension of the square domain\n",
    "lam = 0.1  #density (lambda) of the poisson process\n",
    "\n",
    "# Simulate Poisson process\n",
    "simulate_and_plot_poisson_process_on_plane(T, lam)\n"
   ]
  },
  {
   "cell_type": "markdown",
   "metadata": {},
   "source": [
    "Now we produce the code for the **probability mass function** of a Poisson process on a plane: probability of having k points in a domain D of size T X T, given a Poisson Process on a Plane of density $\\lambda$:\n",
    "\n",
    "$$\n",
    "  P(X(D) = k) = \\frac{e^{-\\lambda |D|} (\\lambda |D|)^k}{k!}\n",
    "  $$"
   ]
  },
  {
   "cell_type": "code",
   "execution_count": 6,
   "metadata": {},
   "outputs": [],
   "source": [
    "def poisson_process_on_a_plane_probability_mass_function(lam, k, D_area): #inputs: density of the poisson process lambda, k points, domain area\n",
    "\n",
    "    # Calculate e^(-lambda * domain area)\n",
    "    exp_term = np.exp(-lam * D_area)\n",
    "\n",
    "    # Calculate e^(-lambda * domain area) * (lambda * area)^k \n",
    "    numerator = exp_term * (lam * D_area)**k \n",
    "\n",
    "    # Calculate the PMF value\n",
    "    pmf_value = numerator / math.factorial(k)\n",
    "\n",
    "    return f\"The probability of having {k} points in a plane of area {D_area} given a Poissson process on a plane with density lambda equal to {lam} is: {pmf_value}\"\n",
    "\n"
   ]
  },
  {
   "cell_type": "markdown",
   "metadata": {},
   "source": [
    "Example probability mass function of a Poisson Process on a Plane:"
   ]
  },
  {
   "cell_type": "code",
   "execution_count": 7,
   "metadata": {},
   "outputs": [
    {
     "data": {
      "text/plain": [
       "'The probability of having 2 points in a plane of area 100 given a Poissson process on a plane with density lambda equal to 0.1 is: 0.0022699964881242427'"
      ]
     },
     "execution_count": 7,
     "metadata": {},
     "output_type": "execute_result"
    }
   ],
   "source": [
    "lambda_val = 0.1 # Lambda parameter\n",
    "k_val = 2        # Number of points/events\n",
    "area_val = 100   # Area of the domain\n",
    "\n",
    "poisson_process_on_a_plane_probability_mass_function(lambda_val, k_val, area_val)"
   ]
  },
  {
   "cell_type": "markdown",
   "metadata": {},
   "source": [
    "Create a function for the **expectation** of a Poisson Process on a Plane \n",
    "\n",
    "$E[X(D)] = \\lambda|D|$"
   ]
  },
  {
   "cell_type": "code",
   "execution_count": 8,
   "metadata": {},
   "outputs": [],
   "source": [
    "def poisson_process_on_a_plane_expectation(lam, D_area):  #inputs: density of the poisson process lambda, domain area\n",
    "  return f'The expected number of points for a poisson process on a plane of Area {D_area} is: {lam* D_area}'\n",
    "\n"
   ]
  },
  {
   "cell_type": "markdown",
   "metadata": {},
   "source": [
    "Example expectation of a Poisson Process on a Plane:"
   ]
  },
  {
   "cell_type": "code",
   "execution_count": 10,
   "metadata": {},
   "outputs": [
    {
     "data": {
      "text/plain": [
       "'The expected number of points for a poisson process on a plane of Area 3600 is: 360.0'"
      ]
     },
     "execution_count": 10,
     "metadata": {},
     "output_type": "execute_result"
    }
   ],
   "source": [
    "lambda_val = 0.1 # Lambda parameter\n",
    "area_val = 3600 # Area of the domain\n",
    "\n",
    "poisson_process_on_a_plane_expectation(lambda_val, area_val)"
   ]
  },
  {
   "cell_type": "markdown",
   "metadata": {},
   "source": [
    "**CHAPTER 2. BOOLEAN RANDOM NETWORK**\n",
    "\n",
    "A **Boolean random\n",
    "network** on the plane, denoted by ($X$, $\\lambda$, $r$) , is constructed as follows: given a realization of the\n",
    "Poisson process $X$, two elements *x*, *y* $\\in$ $X$ are connected if their Euclidean distance is smaller than\n",
    "or equal to $2r$. This geometrically corresponds to placing discs of radius $r$ at the points of the\n",
    "Poisson process and considering connected components formed by clusters of overlapping discs."
   ]
  },
  {
   "cell_type": "code",
   "execution_count": 11,
   "metadata": {},
   "outputs": [],
   "source": [
    "def simulate_poisson_process_on_plane(T, lam):\n",
    "        \n",
    "        N = np.random.poisson(lam * T**2) #produce the N points according to a Poisson distribution of parameter (lambda * T^2). T^2 since we are considering a square domain\n",
    "\n",
    "        # Assign the coordinates to the N points\n",
    "        if N == 0:\n",
    "            return np.array([])  # if 0 points have been produced return an empty array\n",
    "        else: #generate a random matrix of numbers following a uniform distribution with dimensions N rows(points) X 2 columns (coordinates)\n",
    "            points = np.random.rand(N, 2) * T  #moltiplicate for T for distribute points in T dimension (not just between 0-1)\n",
    "            return points #return coordinates of the points\n",
    "\n",
    "#############################\n",
    "## FIND NUMBER OF CLUSTERS###\n",
    "#############################\n",
    "def find_clusters(points, r): #INPUT: numpy array with the coordinates of the points (the must be produced with a poisson process on a plane) / radius r\n",
    "   \n",
    "    def bfs(node, visited): #Breadth-Fist Search algorithm\n",
    "        queue = deque([node]) \n",
    "        cluster = []\n",
    "        while queue:\n",
    "            v = queue.popleft()\n",
    "            if tuple(v) not in visited:\n",
    "                visited.add(tuple(v))\n",
    "                cluster.append(v)\n",
    "                neighbors = [w for w in points if np.linalg.norm(v - w) <= 2 * r and tuple(w) not in visited]\n",
    "                queue.extend(neighbors)\n",
    "        return cluster\n",
    "\n",
    "    visited = set() #INITIALIZATION: 0 visited points and 0 clusters\n",
    "    num_clusters = 0 \n",
    "\n",
    "    for point in points: #if a point has not been visited it is passed to bfs algorithm and increments the number of clusters \n",
    "        if tuple(point) not in visited:\n",
    "            cluster = bfs(point, visited)\n",
    "            num_clusters += 1\n",
    "\n",
    "    return num_clusters #OUTPUT: number of clusters\n",
    "\n",
    "def simulate_boolean_network_avg_number_of_clusters(T, lam, M):\n",
    "    \"\"\"\n",
    "    Simulate Boolean random network multiple times and compute the average number of clusters.\n",
    "\n",
    "    Parameters:\n",
    "    T : float\n",
    "        Size of the square domain.\n",
    "    lam : float\n",
    "        Density parameter of the Poisson process.\n",
    "    M : int\n",
    "        Number of simulations to perform.\n",
    "\n",
    "    Returns:\n",
    "    avg_num_clusters : float\n",
    "        Average number of clusters found in the simulations.\n",
    "    \"\"\"\n",
    "    r = 1\n",
    "    num_clusters_list = []\n",
    "\n",
    "    for _ in range(M): #for every iteration...\n",
    "        \n",
    "        points = simulate_poisson_process_on_plane(T, lam) #1. simulate poisson process on plane for generating the points\n",
    "\n",
    "        \n",
    "        num_clusters = find_clusters(points, r) #2. compute the number of clusters \n",
    "        num_clusters_list.append(num_clusters) #3.append the number of cluster for that specific simulation (than compute the average number of clusters)\n",
    "\n",
    "    # Compute average number of clusters\n",
    "    avg_num_clusters = np.mean(num_clusters_list) #compute the average number of clusters\n",
    "\n",
    "    return avg_num_clusters\n",
    "\n",
    "\n"
   ]
  },
  {
   "cell_type": "code",
   "execution_count": 12,
   "metadata": {},
   "outputs": [
    {
     "name": "stdout",
     "output_type": "stream",
     "text": [
      "Average number of clusters: 529.0\n"
     ]
    }
   ],
   "source": [
    "# Parameters\n",
    "T = 100  # Size of the square domain\n",
    "lam = 0.1  # Density parameter for Poisson process\n",
    "M = 1  # Number of simulations\n",
    "\n",
    "# Perform simulation\n",
    "avg_num_clusters = simulate_boolean_network_avg_number_of_clusters(T, lam, M)\n",
    "\n",
    "print(f\"Average number of clusters: {avg_num_clusters}\")"
   ]
  },
  {
   "cell_type": "code",
   "execution_count": 13,
   "metadata": {},
   "outputs": [],
   "source": [
    "#FAI SIMULAZIONE DELLA FUNZIONE FIND CLUSTERS E ASSEGNA COLORI DIVERSI AI CLUSTER SE SI PUO'\n",
    "\n",
    "\n",
    "                                          "
   ]
  },
  {
   "cell_type": "markdown",
   "metadata": {},
   "source": [
    "**CHAPTER 3. RUNNING SIMULATIONS TO DISCOVER HOW THE SIZE OF THE SIZE OF THE LARGEST CLUSTER DEPENDS ON LAMBDA**\n",
    "\n",
    "* set T: size of the dimension of the square domain (60)\n",
    "* set M: number of simulations (100)\n",
    "* let lambda varying\n"
   ]
  },
  {
   "cell_type": "code",
   "execution_count": 14,
   "metadata": {},
   "outputs": [],
   "source": [
    "def find_clusters(points, r):\n",
    "    \"\"\"\n",
    "    Find clusters in a Boolean random network based on Euclidean distance.\n",
    "\n",
    "    Parameters:\n",
    "    points : numpy.ndarray\n",
    "        Array of shape (N, 2) containing N points where each point is (x, y) coordinates.\n",
    "    r : float\n",
    "        Radius for connecting points.\n",
    "\n",
    "    Returns:\n",
    "    clusters : list\n",
    "        List of clusters, where each cluster is a list of points.\n",
    "    \"\"\"\n",
    "    def bfs(node, visited):\n",
    "        queue = deque([node])\n",
    "        cluster = []\n",
    "        while queue:\n",
    "            v = queue.popleft()\n",
    "            if tuple(v) not in visited:\n",
    "                visited.add(tuple(v))\n",
    "                cluster.append(v)\n",
    "                neighbors = [w for w in points if np.linalg.norm(v - w) <= 2 * r and tuple(w) not in visited]\n",
    "                queue.extend(neighbors)\n",
    "        return cluster\n",
    "\n",
    "    visited = set()\n",
    "    clusters = []\n",
    "\n",
    "    for point in points:\n",
    "        if tuple(point) not in visited:\n",
    "            cluster = bfs(point, visited)\n",
    "            clusters.append(cluster)\n",
    "\n",
    "    return clusters\n",
    "\n",
    "#CANCELLA SOPRAAAAAA NON SERVEEEEEE######\n",
    "\n",
    "def largest_cluster_size(clusters): #given a list of clusters (each of these are a list of points) return the SIZE of the largest cluster\n",
    "    \n",
    "    if not clusters:\n",
    "        return 0\n",
    "    largest_size = max(len(cluster) for cluster in clusters)\n",
    "    return largest_size\n",
    "\n",
    "\n",
    "################################################################################################\n",
    "## FIND NUMBER OF POINTS AND NUMBER OF POINTS INSIDE THE BIGGEST CLUSTER IN A BOOLEAN NETWORK###\n",
    "################################################################################################\n",
    "\n",
    "                                                    #given T dimension of square domani, lambda e number od simulations M\n",
    "def simulate_boolean_network_complete(T, lam, M): #return the 1. AVERAGE NUMBER OF POINTS and 2. AVERAGE NUMBER OF POINTS INSIDE THE BIGGEST CLUSTER\n",
    "    \n",
    "    r = 1\n",
    "    largest_cluster_sizes = []\n",
    "    total_num_points = []\n",
    "\n",
    "    for _ in range(M): #for every simulation...\n",
    "        \n",
    "        points = simulate_poisson_process_on_plane(T, lam) #1. simulate poisson process on plane for generating the points\n",
    "\n",
    "        # Record number of points\n",
    "        total_num_points.append(len(points)) #2. append the number of point generated by each simulation\n",
    "\n",
    "        # Find clusters\n",
    "        clusters = find_clusters(points, r) #3. identify the clusterss\n",
    "        size_of_largest_cluster = largest_cluster_size(clusters) #4.use the previous function to detect the largest cluster\n",
    "        largest_cluster_sizes.append(size_of_largest_cluster) #5. append the number of points of the largest cluster for the current simulation \n",
    "\n",
    "    # Compute average size of the largest cluster and average number of points\n",
    "    avg_largest_cluster_size = np.mean(largest_cluster_sizes)\n",
    "    avg_num_points = np.mean(total_num_points)\n",
    "    avg_percent_points_in_largest_cluster = (avg_largest_cluster_size / avg_num_points) * 100\n",
    "\n",
    "    return avg_largest_cluster_size, avg_num_points, avg_percent_points_in_largest_cluster\n",
    "\n"
   ]
  },
  {
   "cell_type": "markdown",
   "metadata": {},
   "source": [
    "Example: produce a boolean network and return the total number of points and the number of points in the biggest cluster"
   ]
  },
  {
   "cell_type": "code",
   "execution_count": 15,
   "metadata": {},
   "outputs": [
    {
     "name": "stdout",
     "output_type": "stream",
     "text": [
      "The average number of points is: 431.25\n",
      "Average size of the largest cluster: 14.175\n",
      "PERCENTAGE OF POINTS IN THE BIGGEST CLUSTER: 3.28695652173913 %\n"
     ]
    }
   ],
   "source": [
    "# Parameters\n",
    "\n",
    "T = 60  # Size of the dimension of the square domain\n",
    "lam = 0.12  # Density parameter for Poisson process\n",
    "M = 40  # Number of simulations\n",
    "\n",
    "# Perform simulation\n",
    "avg_largest_cluster_size, avg_num_points, avg_percent_points_in_largest_cluster= simulate_boolean_network_complete(T, lam, M)\n",
    "\n",
    "print(f\"The average number of points is: {avg_num_points}\")\n",
    "print(f\"Average size of the largest cluster: {avg_largest_cluster_size}\")\n",
    "print(f\"PERCENTAGE OF POINTS IN THE BIGGEST CLUSTER: {avg_percent_points_in_largest_cluster} %\")"
   ]
  },
  {
   "cell_type": "markdown",
   "metadata": {},
   "source": [
    "Reproduce the same example with the threshold value of lambda:\n",
    "$$\n",
    "\\lambda_c \\approx \\frac{4.512}{4 \\pi}\n",
    "$$"
   ]
  },
  {
   "cell_type": "code",
   "execution_count": 16,
   "metadata": {},
   "outputs": [
    {
     "name": "stdout",
     "output_type": "stream",
     "text": [
      "The average number of points is: 1293.65\n",
      "Average size of the largest cluster: 698.775\n",
      "PERCENTAGE OF POINTS IN THE BIGGEST CLUSTER: 54.01576933482781 %\n"
     ]
    }
   ],
   "source": [
    "# Parameters\n",
    "\n",
    "T = 60  # Size of the dimension of the square domain\n",
    "lam = (4.513/(4*math.pi)) # THRESHOLD VALUE Density parameter for Poisson process\n",
    "M = 40  # Number of simulations\n",
    "\n",
    "# Perform simulation\n",
    "avg_largest_cluster_size, avg_num_points, avg_percent_points_in_largest_cluster = simulate_boolean_network_complete(T, lam, M)\n",
    "\n",
    "print(f\"The average number of points is: {avg_num_points}\")\n",
    "print(f\"Average size of the largest cluster: {avg_largest_cluster_size}\")\n",
    "print(f\"PERCENTAGE OF POINTS IN THE BIGGEST CLUSTER: {avg_percent_points_in_largest_cluster} %\")\n"
   ]
  },
  {
   "cell_type": "markdown",
   "metadata": {},
   "source": [
    "**3.1 PLOTTING THE RESULTS TO DISCOVER HOW THE THE SIZE OF THE SIZE OF THE LARGEST CLUSTER DEPENDS ON LAMBDA**\n",
    "\n",
    "We create a table having on the X axis the values of lambda and on the Y axis the percentage of points belonging to the biggest cluster"
   ]
  },
  {
   "cell_type": "code",
   "execution_count": 25,
   "metadata": {},
   "outputs": [
    {
     "ename": "KeyboardInterrupt",
     "evalue": "",
     "output_type": "error",
     "traceback": [
      "\u001b[1;31m---------------------------------------------------------------------------\u001b[0m",
      "\u001b[1;31mKeyboardInterrupt\u001b[0m                         Traceback (most recent call last)",
      "Cell \u001b[1;32mIn[25], line 11\u001b[0m\n\u001b[0;32m      8\u001b[0m results \u001b[38;5;241m=\u001b[39m []\n\u001b[0;32m     10\u001b[0m \u001b[38;5;28;01mfor\u001b[39;00m lam \u001b[38;5;129;01min\u001b[39;00m lambda_values:\n\u001b[1;32m---> 11\u001b[0m     avg_largest_cluster_size, avg_num_points, avg_percent_points_in_largest_cluster \u001b[38;5;241m=\u001b[39m \u001b[43msimulate_boolean_network_complete\u001b[49m\u001b[43m(\u001b[49m\u001b[43mT\u001b[49m\u001b[43m,\u001b[49m\u001b[43m \u001b[49m\u001b[43mlam\u001b[49m\u001b[43m,\u001b[49m\u001b[43m \u001b[49m\u001b[43mM\u001b[49m\u001b[43m)\u001b[49m\n\u001b[0;32m     12\u001b[0m     results\u001b[38;5;241m.\u001b[39mappend((lam, avg_largest_cluster_size, avg_num_points, avg_percent_points_in_largest_cluster))\n\u001b[0;32m     14\u001b[0m \u001b[38;5;66;03m# Plotting the results\u001b[39;00m\n",
      "Cell \u001b[1;32mIn[14], line 66\u001b[0m, in \u001b[0;36msimulate_boolean_network_complete\u001b[1;34m(T, lam, M)\u001b[0m\n\u001b[0;32m     63\u001b[0m total_num_points\u001b[38;5;241m.\u001b[39mappend(\u001b[38;5;28mlen\u001b[39m(points)) \u001b[38;5;66;03m#2. append the number of point generated by each simulation\u001b[39;00m\n\u001b[0;32m     65\u001b[0m \u001b[38;5;66;03m# Find clusters\u001b[39;00m\n\u001b[1;32m---> 66\u001b[0m clusters \u001b[38;5;241m=\u001b[39m \u001b[43mfind_clusters\u001b[49m\u001b[43m(\u001b[49m\u001b[43mpoints\u001b[49m\u001b[43m,\u001b[49m\u001b[43m \u001b[49m\u001b[43mr\u001b[49m\u001b[43m)\u001b[49m \u001b[38;5;66;03m#3. identify the clusterss\u001b[39;00m\n\u001b[0;32m     67\u001b[0m size_of_largest_cluster \u001b[38;5;241m=\u001b[39m largest_cluster_size(clusters) \u001b[38;5;66;03m#4.use the previous function to detect the largest cluster\u001b[39;00m\n\u001b[0;32m     68\u001b[0m largest_cluster_sizes\u001b[38;5;241m.\u001b[39mappend(size_of_largest_cluster) \u001b[38;5;66;03m#5. append the number of points of the largest cluster for the current simulation \u001b[39;00m\n",
      "Cell \u001b[1;32mIn[14], line 32\u001b[0m, in \u001b[0;36mfind_clusters\u001b[1;34m(points, r)\u001b[0m\n\u001b[0;32m     30\u001b[0m \u001b[38;5;28;01mfor\u001b[39;00m point \u001b[38;5;129;01min\u001b[39;00m points:\n\u001b[0;32m     31\u001b[0m     \u001b[38;5;28;01mif\u001b[39;00m \u001b[38;5;28mtuple\u001b[39m(point) \u001b[38;5;129;01mnot\u001b[39;00m \u001b[38;5;129;01min\u001b[39;00m visited:\n\u001b[1;32m---> 32\u001b[0m         cluster \u001b[38;5;241m=\u001b[39m \u001b[43mbfs\u001b[49m\u001b[43m(\u001b[49m\u001b[43mpoint\u001b[49m\u001b[43m,\u001b[49m\u001b[43m \u001b[49m\u001b[43mvisited\u001b[49m\u001b[43m)\u001b[49m\n\u001b[0;32m     33\u001b[0m         clusters\u001b[38;5;241m.\u001b[39mappend(cluster)\n\u001b[0;32m     35\u001b[0m \u001b[38;5;28;01mreturn\u001b[39;00m clusters\n",
      "Cell \u001b[1;32mIn[14], line 23\u001b[0m, in \u001b[0;36mfind_clusters.<locals>.bfs\u001b[1;34m(node, visited)\u001b[0m\n\u001b[0;32m     21\u001b[0m         visited\u001b[38;5;241m.\u001b[39madd(\u001b[38;5;28mtuple\u001b[39m(v))\n\u001b[0;32m     22\u001b[0m         cluster\u001b[38;5;241m.\u001b[39mappend(v)\n\u001b[1;32m---> 23\u001b[0m         neighbors \u001b[38;5;241m=\u001b[39m \u001b[43m[\u001b[49m\u001b[43mw\u001b[49m\u001b[43m \u001b[49m\u001b[38;5;28;43;01mfor\u001b[39;49;00m\u001b[43m \u001b[49m\u001b[43mw\u001b[49m\u001b[43m \u001b[49m\u001b[38;5;129;43;01min\u001b[39;49;00m\u001b[43m \u001b[49m\u001b[43mpoints\u001b[49m\u001b[43m \u001b[49m\u001b[38;5;28;43;01mif\u001b[39;49;00m\u001b[43m \u001b[49m\u001b[43mnp\u001b[49m\u001b[38;5;241;43m.\u001b[39;49m\u001b[43mlinalg\u001b[49m\u001b[38;5;241;43m.\u001b[39;49m\u001b[43mnorm\u001b[49m\u001b[43m(\u001b[49m\u001b[43mv\u001b[49m\u001b[43m \u001b[49m\u001b[38;5;241;43m-\u001b[39;49m\u001b[43m \u001b[49m\u001b[43mw\u001b[49m\u001b[43m)\u001b[49m\u001b[43m \u001b[49m\u001b[38;5;241;43m<\u001b[39;49m\u001b[38;5;241;43m=\u001b[39;49m\u001b[43m \u001b[49m\u001b[38;5;241;43m2\u001b[39;49m\u001b[43m \u001b[49m\u001b[38;5;241;43m*\u001b[39;49m\u001b[43m \u001b[49m\u001b[43mr\u001b[49m\u001b[43m \u001b[49m\u001b[38;5;129;43;01mand\u001b[39;49;00m\u001b[43m \u001b[49m\u001b[38;5;28;43mtuple\u001b[39;49m\u001b[43m(\u001b[49m\u001b[43mw\u001b[49m\u001b[43m)\u001b[49m\u001b[43m \u001b[49m\u001b[38;5;129;43;01mnot\u001b[39;49;00m\u001b[43m \u001b[49m\u001b[38;5;129;43;01min\u001b[39;49;00m\u001b[43m \u001b[49m\u001b[43mvisited\u001b[49m\u001b[43m]\u001b[49m\n\u001b[0;32m     24\u001b[0m         queue\u001b[38;5;241m.\u001b[39mextend(neighbors)\n\u001b[0;32m     25\u001b[0m \u001b[38;5;28;01mreturn\u001b[39;00m cluster\n",
      "Cell \u001b[1;32mIn[14], line 23\u001b[0m, in \u001b[0;36m<listcomp>\u001b[1;34m(.0)\u001b[0m\n\u001b[0;32m     21\u001b[0m         visited\u001b[38;5;241m.\u001b[39madd(\u001b[38;5;28mtuple\u001b[39m(v))\n\u001b[0;32m     22\u001b[0m         cluster\u001b[38;5;241m.\u001b[39mappend(v)\n\u001b[1;32m---> 23\u001b[0m         neighbors \u001b[38;5;241m=\u001b[39m [w \u001b[38;5;28;01mfor\u001b[39;00m w \u001b[38;5;129;01min\u001b[39;00m points \u001b[38;5;28;01mif\u001b[39;00m \u001b[43mnp\u001b[49m\u001b[38;5;241;43m.\u001b[39;49m\u001b[43mlinalg\u001b[49m\u001b[38;5;241;43m.\u001b[39;49m\u001b[43mnorm\u001b[49m\u001b[43m(\u001b[49m\u001b[43mv\u001b[49m\u001b[43m \u001b[49m\u001b[38;5;241;43m-\u001b[39;49m\u001b[43m \u001b[49m\u001b[43mw\u001b[49m\u001b[43m)\u001b[49m \u001b[38;5;241m<\u001b[39m\u001b[38;5;241m=\u001b[39m \u001b[38;5;241m2\u001b[39m \u001b[38;5;241m*\u001b[39m r \u001b[38;5;129;01mand\u001b[39;00m \u001b[38;5;28mtuple\u001b[39m(w) \u001b[38;5;129;01mnot\u001b[39;00m \u001b[38;5;129;01min\u001b[39;00m visited]\n\u001b[0;32m     24\u001b[0m         queue\u001b[38;5;241m.\u001b[39mextend(neighbors)\n\u001b[0;32m     25\u001b[0m \u001b[38;5;28;01mreturn\u001b[39;00m cluster\n",
      "File \u001b[1;32m<__array_function__ internals>:180\u001b[0m, in \u001b[0;36mnorm\u001b[1;34m(*args, **kwargs)\u001b[0m\n",
      "File \u001b[1;32mc:\\Users\\loren\\AppData\\Local\\Programs\\Python\\Python311\\Lib\\site-packages\\numpy\\linalg\\linalg.py:2526\u001b[0m, in \u001b[0;36mnorm\u001b[1;34m(x, ord, axis, keepdims)\u001b[0m\n\u001b[0;32m   2524\u001b[0m     sqnorm \u001b[38;5;241m=\u001b[39m x_real\u001b[38;5;241m.\u001b[39mdot(x_real) \u001b[38;5;241m+\u001b[39m x_imag\u001b[38;5;241m.\u001b[39mdot(x_imag)\n\u001b[0;32m   2525\u001b[0m \u001b[38;5;28;01melse\u001b[39;00m:\n\u001b[1;32m-> 2526\u001b[0m     sqnorm \u001b[38;5;241m=\u001b[39m x\u001b[38;5;241m.\u001b[39mdot(x)\n\u001b[0;32m   2527\u001b[0m ret \u001b[38;5;241m=\u001b[39m sqrt(sqnorm)\n\u001b[0;32m   2528\u001b[0m \u001b[38;5;28;01mif\u001b[39;00m keepdims:\n",
      "\u001b[1;31mKeyboardInterrupt\u001b[0m: "
     ]
    }
   ],
   "source": [
    "# Parameters\n",
    "T = 150  # Size of the square domain\n",
    "lambda_values = np.arange(0.1, 0.42, 0.02)  # Lambda values\n",
    "M = 1 # Number of simulations\n",
    "lambda_threshold = 4.512 / (4 * np.pi)  # Threshold lambda value\n",
    "\n",
    "# Perform simulation\n",
    "results = []\n",
    "\n",
    "for lam in lambda_values:\n",
    "    avg_largest_cluster_size, avg_num_points, avg_percent_points_in_largest_cluster = simulate_boolean_network_complete(T, lam, M)\n",
    "    results.append((lam, avg_largest_cluster_size, avg_num_points, avg_percent_points_in_largest_cluster))\n",
    "\n",
    "# Plotting the results\n",
    "lambda_vals = [result[0] for result in results]\n",
    "percent_points_largest_cluster = [result[3] for result in results]\n",
    "\n",
    "plt.figure(figsize=(10, 6))\n",
    "plt.plot(lambda_vals, percent_points_largest_cluster, marker='o', linestyle='-', color='b')\n",
    "plt.axvline(x=lambda_threshold, color='r', linestyle='--', label=f'λ = {lambda_threshold:.3f}')\n",
    "plt.xlabel('Lambda (λ)')\n",
    "plt.ylabel('Percentage of Points in the Largest Cluster (%)')\n",
    "plt.title('Percentage of Points in the Largest Cluster vs Lambda')\n",
    "plt.legend()\n",
    "plt.grid(True)\n",
    "plt.show()\n"
   ]
  },
  {
   "cell_type": "code",
   "execution_count": null,
   "metadata": {},
   "outputs": [],
   "source": []
  }
 ],
 "metadata": {
  "kernelspec": {
   "display_name": "Python 3",
   "language": "python",
   "name": "python3"
  },
  "language_info": {
   "codemirror_mode": {
    "name": "ipython",
    "version": 3
   },
   "file_extension": ".py",
   "mimetype": "text/x-python",
   "name": "python",
   "nbconvert_exporter": "python",
   "pygments_lexer": "ipython3",
   "version": "3.11.0"
  }
 },
 "nbformat": 4,
 "nbformat_minor": 2
}
