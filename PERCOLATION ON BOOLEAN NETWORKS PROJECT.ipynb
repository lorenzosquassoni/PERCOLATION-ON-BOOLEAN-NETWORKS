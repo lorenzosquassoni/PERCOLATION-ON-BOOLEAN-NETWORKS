{
 "cells": [
  {
   "cell_type": "markdown",
   "metadata": {},
   "source": [
    "**PERCOLATION ON BOOLEAN NETWORKS**"
   ]
  },
  {
   "cell_type": "markdown",
   "metadata": {},
   "source": [
    "Percolation theory describes how the size of clusters of connected set of edges of large random networks\n",
    "varies as the connectivity - i.e. the probability that two vertices are connected by an edge - changes. As the\n",
    "connectivity increases the system undergoes a transition from a situation where the clusters are small in size to\n",
    "a picture with significantly larger clusters. This transition is not smooth, but rather it happens sharply as the\n",
    "connectivity crosses a critical value, called percolation threshold. The scope of the present project is to study\n",
    "numerically this phenomenon in Boolean networks."
   ]
  },
  {
   "cell_type": "code",
   "execution_count": 1,
   "metadata": {},
   "outputs": [],
   "source": [
    "import numpy as np #for linear algebra\n",
    "import matplotlib.pyplot as plt\n",
    "import math\n",
    "from collections import deque  # Importa la classe deque da collections\n"
   ]
  },
  {
   "cell_type": "markdown",
   "metadata": {},
   "source": [
    "**Poisson Process on a Plane**"
   ]
  },
  {
   "cell_type": "markdown",
   "metadata": {},
   "source": [
    " To define Boolean model networks we need to introduce first Poisson processes on the plane. A\n",
    "random set of points $X$ $⊂$ $R^2$\n",
    " is said to be a Poisson process of density $\\lambda$ > 0 on the plane if it\n",
    "satisfies the following conditions:\n",
    "\n",
    "* Let $X(D)$ denote the random number of points of X inside a domain D. For mutually disjoint sets $D_1$, $D_2$, ..., $D_k$ $ ⊂$ $R^2$, the random variables $X(D_1)$, $X(D_2)$, ..., $X(D_k)$ are independent.\n",
    "  \n",
    "* Let $|D|$ denote the area of a domain $D$. For any bounded $D ⊂ R^2$ and any k ≥ 0, it holds\n",
    " \n",
    " \n",
    " $$\n",
    "  P(X(D) = k) = \\frac{e^{-\\lambda |D|} (\\lambda |D|)^k}{k!}\n",
    "  $$\n",
    "\n",
    "\n",
    "That is $X(D)$ $\\sim$ $Poi(\\lambda |D|)$. In particular, as a consequence, the mean number of points of $X$ in $D$ is $E[X(D)] = \\lambda|D|$\n"
   ]
  },
  {
   "cell_type": "markdown",
   "metadata": {},
   "source": [
    "We first create a function for simulating a Poisson Process on a Plane, having as inputs the density of the Poisson process $\\lambda$ and the dimension T of the square domain."
   ]
  },
  {
   "cell_type": "markdown",
   "metadata": {},
   "source": [
    "**CHAPTER 1. POISSON PROCESS ON A PLANE**"
   ]
  },
  {
   "cell_type": "code",
   "execution_count": 2,
   "metadata": {},
   "outputs": [],
   "source": [
    "def simulate_poisson_process_on_plane(T, lam):\n",
    "        \n",
    "        N = np.random.poisson(lam * T**2) #produce the N points according to a Poisson distribution of parameter (lambda * T^2). T^2 since we are considering a square domain\n",
    "\n",
    "        # Assign the coordinates to the N points\n",
    "        if N == 0:\n",
    "            return np.array([])  # if 0 points have been produced return an empty array\n",
    "        else: #generate a random matrix of numbers following a uniform distribution with dimensions N rows(points) X 2 columns (coordinates)\n",
    "            points = np.random.rand(N, 2) * T  #moltiplicate for T for distribute points in T dimension (not just between 0-1)\n",
    "            return points #return coordinates of the points\n"
   ]
  },
  {
   "cell_type": "markdown",
   "metadata": {},
   "source": [
    "We create a function to create a scatterplot for visualizing the points of the Poisson Process on a Plane."
   ]
  },
  {
   "cell_type": "code",
   "execution_count": 3,
   "metadata": {},
   "outputs": [],
   "source": [
    "def simulate_and_plot_poisson_process_on_plane(T, lam):\n",
    "\n",
    "        \n",
    "    #generate the points of the poisson process   \n",
    "    points = simulate_poisson_process_on_plane(T, lam)\n",
    "\n",
    "    # Plotting\n",
    "    plt.figure(figsize=(6, 6))\n",
    "    if points.size > 0:  # Check if there are any points to plot\n",
    "        plt.scatter(points[:, 0], points[:, 1], color='blue', alpha=0.7)  # First coordinate of points, and second coordinate of the points. Alpha for transparency of points\n",
    "    plt.title(f'Poisson Process Simulation on Square with dimensions [0, {T}] x [0, {T}]')\n",
    "    plt.xlabel('X')\n",
    "    plt.ylabel('Y')\n",
    "    plt.xlim(0, T)\n",
    "    plt.ylim(0, T)\n",
    "    plt.grid(True)\n",
    "    plt.show()\n",
    "\n",
    "    return f'NUMBER OF POINTS: {len(points)}'\n",
    "    return f'COORDINATES OF THE POINTS: {points}'\n",
    "    \n"
   ]
  },
  {
   "cell_type": "markdown",
   "metadata": {},
   "source": [
    "We now produce an example of the 2 previous functions for creating and plotting a Poisson Process on a Plane."
   ]
  },
  {
   "cell_type": "code",
   "execution_count": 4,
   "metadata": {},
   "outputs": [
    {
     "data": {
      "text/plain": [
       "array([[ 1.42209732, 36.2568817 ],\n",
       "       [57.41875156,  6.57270935],\n",
       "       [52.78280718, 17.40189472],\n",
       "       [ 3.42784159, 23.03463982],\n",
       "       [15.73439735, 14.01928047],\n",
       "       [59.87671872, 28.61745374],\n",
       "       [11.88957092, 57.21909334],\n",
       "       [32.2629936 , 44.81148713],\n",
       "       [ 8.17694635, 55.53756719],\n",
       "       [57.16350207, 29.2424339 ],\n",
       "       [11.67844107, 49.81837006],\n",
       "       [10.29973428, 17.27828912],\n",
       "       [20.26142334, 11.51949238],\n",
       "       [ 4.9216997 , 44.99072172],\n",
       "       [48.59704001, 52.10931009],\n",
       "       [18.25431957, 35.50668958],\n",
       "       [53.00093634, 42.8834289 ],\n",
       "       [17.5869682 , 13.37115069],\n",
       "       [48.74185178,  0.78733861],\n",
       "       [55.54125961, 50.34855788],\n",
       "       [ 6.09545218, 42.38088851],\n",
       "       [19.98497434,  6.6639409 ],\n",
       "       [ 7.37634773, 50.88160608],\n",
       "       [ 6.66870387, 26.77515901],\n",
       "       [38.8606866 , 16.70692261],\n",
       "       [19.49887047, 46.27513311],\n",
       "       [11.57877283, 53.40968285],\n",
       "       [57.53120838, 37.13656663],\n",
       "       [20.5409392 ,  4.90530654],\n",
       "       [15.02398443, 46.86578187],\n",
       "       [ 5.05274688, 15.56906469],\n",
       "       [33.470813  , 59.79653536],\n",
       "       [20.52355761,  6.86948111],\n",
       "       [30.00453184,  8.0650714 ],\n",
       "       [50.21718585, 57.73695546],\n",
       "       [32.91817329, 58.72709476],\n",
       "       [ 6.26932066, 38.83332877],\n",
       "       [56.10781993,  9.52788482],\n",
       "       [26.46772822, 12.27145078],\n",
       "       [59.87090766,  8.63607706],\n",
       "       [16.53888676, 38.80421055],\n",
       "       [ 0.27902046, 40.07075979],\n",
       "       [57.19658628, 15.60017537],\n",
       "       [ 0.1274113 , 46.76152075],\n",
       "       [28.51050108, 21.55656923],\n",
       "       [36.21791029, 44.76869335],\n",
       "       [13.26811955, 46.03515589],\n",
       "       [57.17370118, 17.95854442],\n",
       "       [17.83670867, 10.05271967],\n",
       "       [39.69729628, 31.93444696],\n",
       "       [ 1.36470851, 12.36762536],\n",
       "       [40.37436405, 45.77679245],\n",
       "       [ 7.03089991, 13.72275928],\n",
       "       [ 1.27172352, 35.55342943],\n",
       "       [ 9.82261433,  7.00374058],\n",
       "       [32.98824368, 38.79957167],\n",
       "       [53.38141913, 47.48200419],\n",
       "       [55.23637792,  5.89240617],\n",
       "       [30.61590639, 31.54786654],\n",
       "       [40.9828433 , 14.69317938],\n",
       "       [26.4529984 ,  0.73311557],\n",
       "       [28.24463788, 29.18336448],\n",
       "       [33.52058137,  8.56028511],\n",
       "       [17.18843351, 32.74515998],\n",
       "       [29.85006935, 49.18238666],\n",
       "       [ 1.68698979, 55.60105103],\n",
       "       [12.32419206, 49.43860703],\n",
       "       [23.425018  , 19.68553653],\n",
       "       [59.25939376,  1.70392209],\n",
       "       [38.71245655, 17.98349087],\n",
       "       [22.2841911 , 25.36378186],\n",
       "       [59.26730685, 19.51190308],\n",
       "       [38.88226234,  7.40149207],\n",
       "       [42.04076375, 49.68331165],\n",
       "       [44.64578255, 56.5710667 ],\n",
       "       [20.39783948, 39.57031795],\n",
       "       [55.07117923, 10.82101768],\n",
       "       [44.10044417, 54.01311403],\n",
       "       [ 5.77491477, 26.44588683],\n",
       "       [24.29289897, 44.00958988],\n",
       "       [ 4.07438541, 58.1717683 ],\n",
       "       [23.84472479, 47.34797522],\n",
       "       [22.58990295,  0.93132524],\n",
       "       [16.42425538, 31.25986354],\n",
       "       [10.79935373, 34.07549912],\n",
       "       [28.83090481, 37.79276585],\n",
       "       [47.04796139, 41.60514406],\n",
       "       [52.56076558, 46.6670554 ],\n",
       "       [34.79518047, 45.56384145],\n",
       "       [31.33141153, 18.34214574],\n",
       "       [48.41497751, 26.36930881],\n",
       "       [49.24140737, 27.07629227],\n",
       "       [37.32838661, 59.40593367],\n",
       "       [17.2206488 , 10.12462842],\n",
       "       [36.12823383,  5.74969996],\n",
       "       [26.53124589, 46.27281286],\n",
       "       [48.37228549, 44.80925077],\n",
       "       [ 6.41670882, 45.06545414],\n",
       "       [22.33582376,  3.42970105],\n",
       "       [54.90778909, 10.54581551],\n",
       "       [37.41381758, 59.59187981],\n",
       "       [38.15497602,  4.88772441],\n",
       "       [ 4.91891914, 40.71332095],\n",
       "       [ 1.03958358, 40.18276294],\n",
       "       [48.98557958, 11.40680928],\n",
       "       [22.5499134 , 21.16613713],\n",
       "       [23.08912458, 21.37158476],\n",
       "       [24.88038302, 25.91301622],\n",
       "       [26.41155422, 50.93984344],\n",
       "       [29.06613633,  1.51670086],\n",
       "       [37.32860589, 34.37021662],\n",
       "       [53.43844304, 11.51822904],\n",
       "       [30.37393008, 40.40755212],\n",
       "       [50.46783829, 33.14623941],\n",
       "       [28.16284399, 45.98246025],\n",
       "       [10.83886039, 46.23364083],\n",
       "       [ 8.53744552, 44.51848013],\n",
       "       [24.4170434 , 11.25645077],\n",
       "       [ 5.57699396, 26.25429416],\n",
       "       [50.65053604, 48.87173548],\n",
       "       [37.20413273, 12.73210907],\n",
       "       [ 4.24343156, 45.08569818],\n",
       "       [27.96563563, 27.99155918],\n",
       "       [51.66582499,  1.37827166],\n",
       "       [34.96907864, 52.939713  ],\n",
       "       [52.10588345, 52.90873718],\n",
       "       [38.84706425,  9.01781877],\n",
       "       [31.64431259, 24.45906661],\n",
       "       [36.61061565, 29.40721705],\n",
       "       [10.38143879, 29.63686183],\n",
       "       [52.38350017,  7.56533681],\n",
       "       [59.83056292, 45.9005931 ],\n",
       "       [23.6994845 ,  3.08931092],\n",
       "       [55.82801951, 48.46940886],\n",
       "       [51.9866018 , 42.31938502],\n",
       "       [14.47679639, 43.48641649],\n",
       "       [29.08607484, 41.87736746],\n",
       "       [22.75120712, 30.13387535],\n",
       "       [50.73049508,  3.72229344],\n",
       "       [13.38732068, 26.63417382],\n",
       "       [14.47019464, 50.55553531],\n",
       "       [27.48374489, 43.39816528],\n",
       "       [45.13344236, 37.10392042],\n",
       "       [58.78338874, 11.57714976],\n",
       "       [35.88386842, 37.12906126],\n",
       "       [ 4.28017543, 50.75158214],\n",
       "       [34.12431548, 28.10602575],\n",
       "       [42.02414395, 22.30528715],\n",
       "       [29.44584185, 24.81171131],\n",
       "       [18.6233925 , 27.98668658],\n",
       "       [41.19412695, 54.99542506],\n",
       "       [50.12377725, 55.50305416],\n",
       "       [18.2507513 , 59.98095318],\n",
       "       [ 3.16416566, 49.11262426],\n",
       "       [ 5.15509   , 21.27083515],\n",
       "       [39.05761702, 53.26713069],\n",
       "       [ 8.69619847, 32.26183241],\n",
       "       [55.21006444, 31.87874341],\n",
       "       [54.92861338, 24.43162027],\n",
       "       [13.79505615, 43.58084722],\n",
       "       [ 1.31820077, 13.94615465],\n",
       "       [58.59391618, 40.73165888],\n",
       "       [54.41021922,  7.20924902],\n",
       "       [48.15813558, 35.93573074],\n",
       "       [23.99784402,  7.32221383],\n",
       "       [ 3.18700073, 21.8330836 ],\n",
       "       [54.27085121, 39.69105014],\n",
       "       [ 9.45022955, 30.30575075],\n",
       "       [14.99385416, 43.91271961],\n",
       "       [ 4.39095768, 16.40965936],\n",
       "       [45.11000109,  1.72050837],\n",
       "       [ 5.32613531,  3.34657857],\n",
       "       [ 8.98688838, 36.28831085],\n",
       "       [26.42415464, 20.83824125],\n",
       "       [17.64932753, 41.56538418],\n",
       "       [43.69461656, 17.39196725],\n",
       "       [52.01026424, 53.54517087],\n",
       "       [31.32198438, 28.53927819],\n",
       "       [39.72340913, 30.24903939],\n",
       "       [57.95168995, 38.62942345],\n",
       "       [ 6.71402991, 56.96293007],\n",
       "       [ 5.16005527, 15.23993324],\n",
       "       [40.15937254, 57.01044445],\n",
       "       [22.71486286, 47.03917477],\n",
       "       [50.35135659, 35.83160044],\n",
       "       [26.9220499 , 17.22393132],\n",
       "       [17.24358386, 36.98562618],\n",
       "       [58.37574054, 34.66596062],\n",
       "       [25.63106413, 58.57369385],\n",
       "       [ 1.43838455,  9.34473733],\n",
       "       [50.15887687, 11.99273107],\n",
       "       [59.33433458, 40.1287638 ],\n",
       "       [23.05420124, 11.44269731],\n",
       "       [18.71066316, 58.43059658],\n",
       "       [53.41186404, 14.25903965],\n",
       "       [17.83181818, 25.77372171],\n",
       "       [ 8.37350485, 38.29987145],\n",
       "       [49.70663802, 17.93863192],\n",
       "       [25.65192923, 10.41029539],\n",
       "       [ 8.75360165, 43.51112967],\n",
       "       [47.7075231 , 24.79665979],\n",
       "       [44.33432561, 29.79992876],\n",
       "       [35.72709163, 36.22231744],\n",
       "       [31.16888415, 16.45395523],\n",
       "       [20.03545398, 34.78542972],\n",
       "       [16.80985239, 35.49779647],\n",
       "       [57.56032158, 16.20081109],\n",
       "       [27.58780012, 28.56158434],\n",
       "       [16.3824437 , 46.70726091],\n",
       "       [12.91513133, 10.50182679],\n",
       "       [44.07115179, 36.26131451],\n",
       "       [19.78940166, 58.26039376],\n",
       "       [37.41546026, 44.07708182],\n",
       "       [16.2165176 , 32.77673857],\n",
       "       [16.27564749, 29.03044597],\n",
       "       [54.58322268, 32.54718546],\n",
       "       [55.69611525, 21.42300113],\n",
       "       [57.68600035, 21.54999395],\n",
       "       [45.04000304, 49.98892756],\n",
       "       [ 0.83521166,  2.65912666],\n",
       "       [18.87398789,  1.68250636],\n",
       "       [54.56509143, 42.83172812],\n",
       "       [59.94980906, 15.61607377],\n",
       "       [33.63917257,  3.94293385],\n",
       "       [26.83445637, 15.24339127],\n",
       "       [31.35490727,  7.14772849],\n",
       "       [37.01935349, 16.14616314],\n",
       "       [43.49933061, 38.61409242],\n",
       "       [54.41718432, 26.36724841],\n",
       "       [37.73608466, 18.51424033],\n",
       "       [48.97980134, 32.42461298],\n",
       "       [ 8.33335878, 36.36699909],\n",
       "       [ 4.44422127,  1.6751468 ],\n",
       "       [22.86693976, 45.77686994],\n",
       "       [18.31127869, 55.74326743],\n",
       "       [19.1708709 , 44.01891974],\n",
       "       [ 9.01588285, 21.84948157],\n",
       "       [16.73805327,  6.75296292],\n",
       "       [ 2.42614419, 21.04750062],\n",
       "       [21.86150826, 18.80996271],\n",
       "       [14.55739252, 24.42379928],\n",
       "       [37.79307847,  2.64953566],\n",
       "       [28.82076094,  3.98273198],\n",
       "       [29.26780391,  1.8820446 ],\n",
       "       [43.0098948 , 37.6407908 ],\n",
       "       [ 3.07345873, 21.0887346 ],\n",
       "       [29.0851989 , 24.40057622],\n",
       "       [52.48773042, 24.7495488 ],\n",
       "       [23.08749017,  8.90646573],\n",
       "       [40.51864116, 20.20576832],\n",
       "       [29.10100699, 58.71307138],\n",
       "       [55.93999921, 49.23073882],\n",
       "       [20.63504371, 43.25816846],\n",
       "       [28.62000035,  7.01111389],\n",
       "       [13.23382078, 11.90697978],\n",
       "       [ 3.87840423, 25.33368854],\n",
       "       [50.38857276, 16.31102303],\n",
       "       [30.80752339, 48.1920033 ],\n",
       "       [32.29403228, 45.29479266],\n",
       "       [55.0141247 ,  1.2268837 ],\n",
       "       [ 5.21004163, 55.3618988 ],\n",
       "       [35.3401004 , 23.28866361],\n",
       "       [23.01570074, 40.39210886],\n",
       "       [24.88439733,  7.65453998],\n",
       "       [32.38460293, 16.88913464],\n",
       "       [30.53858427, 31.61617303],\n",
       "       [ 9.11243734, 29.79410478],\n",
       "       [53.01899533, 56.40100769],\n",
       "       [29.98777011, 15.62379399],\n",
       "       [ 2.32519906, 52.83648845],\n",
       "       [41.81803262, 49.64038214],\n",
       "       [23.60397138, 25.08695534],\n",
       "       [55.46787811, 53.17561751],\n",
       "       [52.47105462, 57.22659442],\n",
       "       [18.94726038, 34.28959398],\n",
       "       [44.40599915, 21.66738604],\n",
       "       [25.55760476,  5.58625739],\n",
       "       [55.94901497, 29.24085016],\n",
       "       [23.25162546, 46.81659668],\n",
       "       [50.44268625, 25.58629309],\n",
       "       [23.03148629, 39.24381022],\n",
       "       [53.15250145, 44.72461533],\n",
       "       [11.71969509,  8.16029249],\n",
       "       [17.47253332, 38.80126682],\n",
       "       [49.21877464, 55.26980525],\n",
       "       [45.40637573, 29.21211612],\n",
       "       [58.11523533, 51.62536402],\n",
       "       [40.14911822, 13.28824105],\n",
       "       [28.04672425,  2.86516022],\n",
       "       [57.75628246, 48.03492615],\n",
       "       [42.96848719, 54.44119429],\n",
       "       [39.01123905, 28.67074721],\n",
       "       [56.6351337 , 38.07308696],\n",
       "       [36.72953174, 52.98748381],\n",
       "       [ 2.10580863,  0.09771484],\n",
       "       [12.96730669,  1.87933845],\n",
       "       [45.57233056, 53.75406526],\n",
       "       [ 2.66178497, 12.24527724],\n",
       "       [30.9956017 , 53.0396946 ],\n",
       "       [58.49417844, 34.4321926 ],\n",
       "       [55.2465893 , 46.13547764],\n",
       "       [47.97160139, 19.65667445],\n",
       "       [ 9.42180883, 28.8203511 ],\n",
       "       [25.81900405, 36.81951943],\n",
       "       [35.54172717, 25.95380327],\n",
       "       [ 9.77019923, 59.77100287],\n",
       "       [42.92314663, 10.68636176],\n",
       "       [57.70507005, 22.44659721],\n",
       "       [49.52944099, 24.17631735],\n",
       "       [51.6526678 , 14.88994005],\n",
       "       [20.62284506,  6.31335549],\n",
       "       [28.25986462,  6.97082253],\n",
       "       [24.10156228,  2.40027211],\n",
       "       [ 5.78541024, 55.45707544],\n",
       "       [53.84247247, 55.00115057],\n",
       "       [10.47624833, 44.68512002],\n",
       "       [43.87443537,  5.31675895],\n",
       "       [35.67500668,  8.6443921 ],\n",
       "       [27.91804883, 57.03488192],\n",
       "       [37.29409843, 19.86494503],\n",
       "       [49.99445386, 33.95978087],\n",
       "       [19.03806573, 42.50857418],\n",
       "       [53.80279405,  3.86971677],\n",
       "       [49.08733362, 15.72730538],\n",
       "       [40.99390794, 50.94706548],\n",
       "       [21.07514975, 51.28380415],\n",
       "       [39.55460999, 49.46962153],\n",
       "       [34.58335911, 49.23106786],\n",
       "       [57.73962187, 18.85449294],\n",
       "       [16.51450973, 31.1611867 ],\n",
       "       [54.93520468, 27.29776986],\n",
       "       [39.11743194, 44.2829621 ],\n",
       "       [46.80441333,  1.66441333]])"
      ]
     },
     "execution_count": 4,
     "metadata": {},
     "output_type": "execute_result"
    }
   ],
   "source": [
    "T = 60 # dimension of the square domain\n",
    "lam = 0.1  # Density (lambda) of the poisson process\n",
    "\n",
    "simulate_poisson_process_on_plane(T, lam)"
   ]
  },
  {
   "cell_type": "code",
   "execution_count": 5,
   "metadata": {},
   "outputs": [
    {
     "data": {
      "image/png": "[encoded data removed]",
      "text/plain": [
       "<Figure size 600x600 with 1 Axes>"
      ]
     },
     "metadata": {},
     "output_type": "display_data"
    },
    {
     "data": {
      "text/plain": [
       "'NUMBER OF POINTS: 342'"
      ]
     },
     "execution_count": 5,
     "metadata": {},
     "output_type": "execute_result"
    }
   ],
   "source": [
    "T = 60 # dimension of the square domain\n",
    "lam = 0.1  #density (lambda) of the poisson process\n",
    "\n",
    "# Simulate Poisson process\n",
    "simulate_and_plot_poisson_process_on_plane(T, lam)\n"
   ]
  },
  {
   "cell_type": "markdown",
   "metadata": {},
   "source": [
    "Now we produce the code for the **probability mass function** of a Poisson process on a plane: probability of having k points in a domain D of size T X T, given a Poisson Process on a Plane of density $\\lambda$:\n",
    "\n",
    "$$\n",
    "  P(X(D) = k) = \\frac{e^{-\\lambda |D|} (\\lambda |D|)^k}{k!}\n",
    "  $$"
   ]
  },
  {
   "cell_type": "code",
   "execution_count": 6,
   "metadata": {},
   "outputs": [],
   "source": [
    "def poisson_process_on_a_plane_probability_mass_function(lam, k, D_area): #inputs: density of the poisson process lambda, k points, domain area\n",
    "\n",
    "    # Calculate e^(-lambda * domain area)\n",
    "    exp_term = np.exp(-lam * D_area)\n",
    "\n",
    "    # Calculate e^(-lambda * domain area) * (lambda * area)^k \n",
    "    numerator = exp_term * (lam * D_area)**k \n",
    "\n",
    "    # Calculate the PMF value\n",
    "    pmf_value = numerator / math.factorial(k)\n",
    "\n",
    "    return f\"The probability of having {k} points in a plane of area {D_area} given a Poissson process on a plane with density lambda equal to {lam} is: {pmf_value}\"\n",
    "\n"
   ]
  },
  {
   "cell_type": "markdown",
   "metadata": {},
   "source": [
    "Example probability mass function of a Poisson Process on a Plane:"
   ]
  },
  {
   "cell_type": "code",
   "execution_count": 7,
   "metadata": {},
   "outputs": [
    {
     "data": {
      "text/plain": [
       "'The probability of having 2 points in a plane of area 100 given a Poissson process on a plane with density lambda equal to 0.1 is: 0.0022699964881242427'"
      ]
     },
     "execution_count": 7,
     "metadata": {},
     "output_type": "execute_result"
    }
   ],
   "source": [
    "lambda_val = 0.1 # Lambda parameter\n",
    "k_val = 2        # Number of points/events\n",
    "area_val = 100   # Area of the domain\n",
    "\n",
    "poisson_process_on_a_plane_probability_mass_function(lambda_val, k_val, area_val)"
   ]
  },
  {
   "cell_type": "markdown",
   "metadata": {},
   "source": [
    "Create a function for the **expectation** of a Poisson Process on a Plane \n",
    "\n",
    "$E[X(D)] = \\lambda|D|$"
   ]
  },
  {
   "cell_type": "code",
   "execution_count": 8,
   "metadata": {},
   "outputs": [],
   "source": [
    "def poisson_process_on_a_plane_expectation(lam, D_area):  #inputs: density of the poisson process lambda, domain area\n",
    "  return f'The expected number of points for a poisson process on a plane of Area {D_area} is: {lam* D_area}'\n",
    "\n"
   ]
  },
  {
   "cell_type": "markdown",
   "metadata": {},
   "source": [
    "Example expectation of a Poisson Process on a Plane:"
   ]
  },
  {
   "cell_type": "code",
   "execution_count": 9,
   "metadata": {},
   "outputs": [
    {
     "data": {
      "text/plain": [
       "'The expected number of points for a poisson process on a plane of Area 3600 is: 360.0'"
      ]
     },
     "execution_count": 9,
     "metadata": {},
     "output_type": "execute_result"
    }
   ],
   "source": [
    "lambda_val = 0.1 # Lambda parameter\n",
    "area_val = 3600 # Area of the domain\n",
    "\n",
    "poisson_process_on_a_plane_expectation(lambda_val, area_val)"
   ]
  },
  {
   "cell_type": "markdown",
   "metadata": {},
   "source": [
    "**CHAPTER 2. BOOLEAN RANDOM NETWORK**\n",
    "\n",
    "A **Boolean random\n",
    "network** on the plane, denoted by ($X$, $\\lambda$, $r$) , is constructed as follows: given a realization of the\n",
    "Poisson process $X$, two elements *x*, *y* $\\in$ $X$ are connected if their Euclidean distance is smaller than\n",
    "or equal to $2r$. This geometrically corresponds to placing discs of radius $r$ at the points of the\n",
    "Poisson process and considering connected components formed by clusters of overlapping discs."
   ]
  },
  {
   "cell_type": "code",
   "execution_count": 10,
   "metadata": {},
   "outputs": [],
   "source": [
    "def simulate_poisson_process_on_plane(T, lam):\n",
    "        \n",
    "        N = np.random.poisson(lam * T**2) #produce the N points according to a Poisson distribution of parameter (lambda * T^2). T^2 since we are considering a square domain\n",
    "\n",
    "        # Assign the coordinates to the N points\n",
    "        if N == 0:\n",
    "            return np.array([])  # if 0 points have been produced return an empty array\n",
    "        else: #generate a random matrix of numbers following a uniform distribution with dimensions N rows(points) X 2 columns (coordinates)\n",
    "            points = np.random.rand(N, 2) * T  #moltiplicate for T for distribute points in T dimension (not just between 0-1)\n",
    "            return points #return coordinates of the points\n",
    "\n",
    "#############################\n",
    "## FIND NUMBER OF CLUSTERS###\n",
    "#############################\n",
    "def find_clusters(points, r): #INPUT: numpy array with the coordinates of the points (the must be produced with a poisson process on a plane) / radius r\n",
    "   \n",
    "    def bfs(node, visited): #Breadth-Fist Search algorithm\n",
    "        queue = deque([node]) \n",
    "        cluster = []\n",
    "        while queue:\n",
    "            v = queue.popleft()\n",
    "            if tuple(v) not in visited:\n",
    "                visited.add(tuple(v))\n",
    "                cluster.append(v)\n",
    "                neighbors = [w for w in points if np.linalg.norm(v - w) <= 2 * r and tuple(w) not in visited]\n",
    "                queue.extend(neighbors)\n",
    "        return cluster\n",
    "\n",
    "    visited = set() #INITIALIZATION: 0 visited points and 0 clusters\n",
    "    num_clusters = 0 \n",
    "\n",
    "    for point in points: #if a point has not been visited it is passed to bfs algorithm and increments the number of clusters \n",
    "        if tuple(point) not in visited:\n",
    "            cluster = bfs(point, visited)\n",
    "            num_clusters += 1\n",
    "\n",
    "    return num_clusters #OUTPUT: number of clusters\n",
    "\n",
    "def simulate_boolean_network_avg_number_of_clusters(T, lam, M):\n",
    "    \"\"\"\n",
    "    Simulate Boolean random network multiple times and compute the average number of clusters.\n",
    "\n",
    "    Parameters:\n",
    "    T : float\n",
    "        Size of the square domain.\n",
    "    lam : float\n",
    "        Density parameter of the Poisson process.\n",
    "    M : int\n",
    "        Number of simulations to perform.\n",
    "\n",
    "    Returns:\n",
    "    avg_num_clusters : float\n",
    "        Average number of clusters found in the simulations.\n",
    "    \"\"\"\n",
    "    r = 1\n",
    "    num_clusters_list = []\n",
    "\n",
    "    for _ in range(M): #for every iteration...\n",
    "        \n",
    "        points = simulate_poisson_process_on_plane(T, lam) #1. simulate poisson process on plane for generating the points\n",
    "\n",
    "        \n",
    "        num_clusters = find_clusters(points, r) #2. compute the number of clusters \n",
    "        num_clusters_list.append(num_clusters) #3.append the number of cluster for that specific simulation (than compute the average number of clusters)\n",
    "\n",
    "    # Compute average number of clusters\n",
    "    avg_num_clusters = np.mean(num_clusters_list) #compute the average number of clusters\n",
    "\n",
    "    return avg_num_clusters\n",
    "\n",
    "\n"
   ]
  },
  {
   "cell_type": "code",
   "execution_count": 11,
   "metadata": {},
   "outputs": [
    {
     "name": "stdout",
     "output_type": "stream",
     "text": [
      "Average number of clusters: 512.0\n"
     ]
    }
   ],
   "source": [
    "# Parameters\n",
    "T = 100  # Size of the square domain\n",
    "lam = 0.1  # Density parameter for Poisson process\n",
    "M = 1  # Number of simulations\n",
    "\n",
    "# Perform simulation\n",
    "avg_num_clusters = simulate_boolean_network_avg_number_of_clusters(T, lam, M)\n",
    "\n",
    "print(f\"Average number of clusters: {avg_num_clusters}\")"
   ]
  },
  {
   "cell_type": "code",
   "execution_count": 12,
   "metadata": {},
   "outputs": [],
   "source": [
    "#FAI SIMULAZIONE DELLA FUNZIONE FIND CLUSTERS E ASSEGNA COLORI DIVERSI AI CLUSTER SE SI PUO'\n",
    "\n",
    "\n",
    "                                          "
   ]
  },
  {
   "cell_type": "markdown",
   "metadata": {},
   "source": [
    "**CHAPTER 3. RUNNING SIMULATIONS TO DISCOVER HOW THE SIZE OF THE SIZE OF THE LARGEST CLUSTER DEPENDS ON LAMBDA**\n",
    "\n",
    "* set T: size of the dimension of the square domain (60)\n",
    "* set M: number of simulations (100)\n",
    "* let lambda varying\n"
   ]
  },
  {
   "cell_type": "code",
   "execution_count": 13,
   "metadata": {},
   "outputs": [],
   "source": [
    "def find_clusters(points, r):\n",
    "    \"\"\"\n",
    "    Find clusters in a Boolean random network based on Euclidean distance.\n",
    "\n",
    "    Parameters:\n",
    "    points : numpy.ndarray\n",
    "        Array of shape (N, 2) containing N points where each point is (x, y) coordinates.\n",
    "    r : float\n",
    "        Radius for connecting points.\n",
    "\n",
    "    Returns:\n",
    "    clusters : list\n",
    "        List of clusters, where each cluster is a list of points.\n",
    "    \"\"\"\n",
    "    def bfs(node, visited):\n",
    "        queue = deque([node])\n",
    "        cluster = []\n",
    "        while queue:\n",
    "            v = queue.popleft()\n",
    "            if tuple(v) not in visited:\n",
    "                visited.add(tuple(v))\n",
    "                cluster.append(v)\n",
    "                neighbors = [w for w in points if np.linalg.norm(v - w) <= 2 * r and tuple(w) not in visited]\n",
    "                queue.extend(neighbors)\n",
    "        return cluster\n",
    "\n",
    "    visited = set()\n",
    "    clusters = []\n",
    "\n",
    "    for point in points:\n",
    "        if tuple(point) not in visited:\n",
    "            cluster = bfs(point, visited)\n",
    "            clusters.append(cluster)\n",
    "\n",
    "    return clusters\n",
    "\n",
    "#CANCELLA SOPRAAAAAA NON SERVEEEEEE######\n",
    "\n",
    "def largest_cluster_size(clusters): #given a list of clusters (each of these are a list of points) return the SIZE of the largest cluster\n",
    "    \n",
    "    if not clusters:\n",
    "        return 0\n",
    "    largest_size = max(len(cluster) for cluster in clusters)\n",
    "    return largest_size\n",
    "\n",
    "\n",
    "################################################################################################\n",
    "## FIND NUMBER OF POINTS AND NUMBER OF POINTS INSIDE THE BIGGEST CLUSTER IN A BOOLEAN NETWORK###\n",
    "################################################################################################\n",
    "\n",
    "                                                    #given T dimension of square domani, lambda e number od simulations M\n",
    "def simulate_boolean_network_complete(T, lam, M): #return the 1. AVERAGE NUMBER OF POINTS and 2. AVERAGE NUMBER OF POINTS INSIDE THE BIGGEST CLUSTER\n",
    "    \n",
    "    r = 1\n",
    "    largest_cluster_sizes = []\n",
    "    total_num_points = []\n",
    "\n",
    "    for _ in range(M): #for every simulation...\n",
    "        \n",
    "        points = simulate_poisson_process_on_plane(T, lam) #1. simulate poisson process on plane for generating the points\n",
    "\n",
    "        # Record number of points\n",
    "        total_num_points.append(len(points)) #2. append the number of point generated by each simulation\n",
    "\n",
    "        # Find clusters\n",
    "        clusters = find_clusters(points, r) #3. identify the clusterss\n",
    "        size_of_largest_cluster = largest_cluster_size(clusters) #4.use the previous function to detect the largest cluster\n",
    "        largest_cluster_sizes.append(size_of_largest_cluster) #5. append the number of points of the largest cluster for the current simulation \n",
    "\n",
    "    # Compute average size of the largest cluster and average number of points\n",
    "    avg_largest_cluster_size = np.mean(largest_cluster_sizes)\n",
    "    avg_num_points = np.mean(total_num_points)\n",
    "    avg_percent_points_in_largest_cluster = (avg_largest_cluster_size / avg_num_points) * 100\n",
    "\n",
    "    return avg_largest_cluster_size, avg_num_points, avg_percent_points_in_largest_cluster\n",
    "\n"
   ]
  },
  {
   "cell_type": "markdown",
   "metadata": {},
   "source": [
    "Example: produce a boolean network and return the total number of points and the number of points in the biggest cluster"
   ]
  },
  {
   "cell_type": "code",
   "execution_count": 14,
   "metadata": {},
   "outputs": [
    {
     "name": "stdout",
     "output_type": "stream",
     "text": [
      "The average number of points is: 434.95\n",
      "Average size of the largest cluster: 14.875\n",
      "PERCENTAGE OF POINTS IN THE BIGGEST CLUSTER: 3.419933325669617 %\n"
     ]
    }
   ],
   "source": [
    "# Parameters\n",
    "\n",
    "T = 60  # Size of the dimension of the square domain\n",
    "lam = 0.12  # Density parameter for Poisson process\n",
    "M = 40  # Number of simulations\n",
    "\n",
    "# Perform simulation\n",
    "avg_largest_cluster_size, avg_num_points, avg_percent_points_in_largest_cluster= simulate_boolean_network_complete(T, lam, M)\n",
    "\n",
    "print(f\"The average number of points is: {avg_num_points}\")\n",
    "print(f\"Average size of the largest cluster: {avg_largest_cluster_size}\")\n",
    "print(f\"PERCENTAGE OF POINTS IN THE BIGGEST CLUSTER: {avg_percent_points_in_largest_cluster} %\")"
   ]
  },
  {
   "cell_type": "markdown",
   "metadata": {},
   "source": [
    "Reproduce the same example with the threshold value of lambda:\n",
    "$$\n",
    "\\lambda_c \\approx \\frac{4.512}{4 \\pi}\n",
    "$$"
   ]
  },
  {
   "cell_type": "code",
   "execution_count": 16,
   "metadata": {},
   "outputs": [
    {
     "name": "stdout",
     "output_type": "stream",
     "text": [
      "The average number of points is: 1297.95\n",
      "Average size of the largest cluster: 720.2\n",
      "PERCENTAGE OF POINTS IN THE BIGGEST CLUSTER: 55.48749951847144 %\n"
     ]
    }
   ],
   "source": [
    "# Parameters\n",
    "\n",
    "T = 60  # Size of the dimension of the square domain\n",
    "lam = (4.513/(4*math.pi)) # THRESHOLD VALUE Density parameter for Poisson process\n",
    "M = 20  # Number of simulations\n",
    "\n",
    "# Perform simulation\n",
    "avg_largest_cluster_size, avg_num_points, avg_percent_points_in_largest_cluster = simulate_boolean_network_complete(T, lam, M)\n",
    "\n",
    "print(f\"The average number of points is: {avg_num_points}\")\n",
    "print(f\"Average size of the largest cluster: {avg_largest_cluster_size}\")\n",
    "print(f\"PERCENTAGE OF POINTS IN THE BIGGEST CLUSTER: {avg_percent_points_in_largest_cluster} %\")\n"
   ]
  },
  {
   "cell_type": "markdown",
   "metadata": {},
   "source": [
    "**3.1 PLOTTING THE RESULTS TO DISCOVER HOW THE THE SIZE OF THE SIZE OF THE LARGEST CLUSTER DEPENDS ON LAMBDA**\n",
    "\n",
    "We create a table having on the X axis the values of lambda and on the Y axis the percentage of points belonging to the biggest cluster"
   ]
  },
  {
   "cell_type": "code",
   "execution_count": 18,
   "metadata": {},
   "outputs": [
    {
     "data": {
      "image/png": "[encoded data removed]",
      "text/plain": [
       "<Figure size 1000x600 with 1 Axes>"
      ]
     },
     "metadata": {},
     "output_type": "display_data"
    }
   ],
   "source": [
    "# Parameters\n",
    "T = 100  # Size of the square domain\n",
    "lambda_values = np.arange(0.1, 0.42, 0.02)  # Lambda values\n",
    "M = 20 # Number of simulations\n",
    "lambda_threshold = 4.512 / (4 * np.pi)  # Threshold lambda value\n",
    "\n",
    "# Perform simulation\n",
    "results = []\n",
    "\n",
    "for lam in lambda_values:\n",
    "    avg_largest_cluster_size, avg_num_points, avg_percent_points_in_largest_cluster = simulate_boolean_network_complete(T, lam, M)\n",
    "    results.append((lam, avg_largest_cluster_size, avg_num_points, avg_percent_points_in_largest_cluster))\n",
    "\n",
    "# Plotting the results\n",
    "lambda_vals = [result[0] for result in results]\n",
    "percent_points_largest_cluster = [result[3] for result in results]\n",
    "\n",
    "plt.figure(figsize=(10, 6))\n",
    "plt.plot(lambda_vals, percent_points_largest_cluster, marker='o', linestyle='-', color='b')\n",
    "plt.axvline(x=lambda_threshold, color='r', linestyle='--', label=f'λ = {lambda_threshold:.3f}')\n",
    "plt.xlabel('Lambda (λ)')\n",
    "plt.ylabel('Percentage of Points in the Largest Cluster (%)')\n",
    "plt.title('Percentage of Points in the Largest Cluster vs Lambda')\n",
    "plt.legend()\n",
    "plt.grid(True)\n",
    "plt.show()\n"
   ]
  },
  {
   "cell_type": "code",
   "execution_count": null,
   "metadata": {},
   "outputs": [],
   "source": []
  },
  {
   "cell_type": "code",
   "execution_count": null,
   "metadata": {},
   "outputs": [],
   "source": []
  },
  {
   "cell_type": "code",
   "execution_count": null,
   "metadata": {},
   "outputs": [],
   "source": []
  }
 ],
 "metadata": {
  "kernelspec": {
   "display_name": "Python 3",
   "language": "python",
   "name": "python3"
  },
  "language_info": {
   "codemirror_mode": {
    "name": "ipython",
    "version": 3
   },
   "file_extension": ".py",
   "mimetype": "text/x-python",
   "name": "python",
   "nbconvert_exporter": "python",
   "pygments_lexer": "ipython3",
   "version": "3.11.0"
  }
 },
 "nbformat": 4,
 "nbformat_minor": 2
}
